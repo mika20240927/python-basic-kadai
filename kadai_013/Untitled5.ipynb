{
  "nbformat": 4,
  "nbformat_minor": 0,
  "metadata": {
    "colab": {
      "provenance": []
    },
    "kernelspec": {
      "name": "python3",
      "display_name": "Python 3"
    },
    "language_info": {
      "name": "python"
    }
  },
  "cells": [
    {
      "cell_type": "code",
      "source": [
        "def calculate_tax(price, tax):\n",
        "  return price * tax\n",
        "\n",
        "total = calculate_tax(100, 1.1)\n",
        "print(f\"{total}円\")"
      ],
      "metadata": {
        "colab": {
          "base_uri": "https://localhost:8080/"
        },
        "id": "S8wDvtzLEPPs",
        "outputId": "d2c6914e-99f5-4518-9091-94e7731bbe1d"
      },
      "execution_count": 58,
      "outputs": [
        {
          "output_type": "stream",
          "name": "stdout",
          "text": [
            "110.00000000000001円\n"
          ]
        }
      ]
    },
    {
      "cell_type": "code",
      "source": [
        ""
      ],
      "metadata": {
        "id": "_Filh-FfGTB1"
      },
      "execution_count": null,
      "outputs": []
    }
  ]
}